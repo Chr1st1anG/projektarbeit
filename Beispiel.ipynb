{
 "cells": [
  {
   "cell_type": "code",
   "execution_count": null,
   "id": "9769843f",
   "metadata": {
    "ExecuteTime": {
     "end_time": "2022-02-28T16:29:02.708279Z",
     "start_time": "2022-02-28T16:29:01.457303Z"
    }
   },
   "outputs": [],
   "source": [
    "from probinf.distributions import *\n",
    "from probinf.bayes_net import *\n",
    "from probinf.inference import *\n",
    "from probinf.utils import *\n",
    "from probinf.xl_reader import *"
   ]
  },
  {
   "cell_type": "markdown",
   "id": "6e69b403",
   "metadata": {},
   "source": [
    "# 4.1\tInstallation"
   ]
  },
  {
   "cell_type": "code",
   "execution_count": null,
   "id": "b67b61fb",
   "metadata": {
    "ExecuteTime": {
     "end_time": "2022-02-17T08:09:14.491867Z",
     "start_time": "2022-02-17T08:09:11.545909Z"
    }
   },
   "outputs": [],
   "source": [
    "!pip install -r requirements.txt"
   ]
  },
  {
   "cell_type": "markdown",
   "id": "3b407589",
   "metadata": {},
   "source": [
    "# 4.2\tNetze definieren"
   ]
  },
  {
   "cell_type": "code",
   "execution_count": null,
   "id": "1e8d9640",
   "metadata": {
    "ExecuteTime": {
     "end_time": "2022-02-28T16:29:13.040288Z",
     "start_time": "2022-02-28T16:29:13.026279Z"
    }
   },
   "outputs": [],
   "source": [
    "einbruch_netz = BayesNet([\n",
    "    ('Einbruch', '', 0.001),\n",
    "    ('Erdbeben', '', 0.002),\n",
    "    ('Alarm', 'Einbruch Erdbeben',\n",
    "     {(T, T): 0.95, (T, F): 0.94, (F, T): 0.29, (F, F): 0.001}),\n",
    "    ('JohnRuftAn', 'Alarm', {T: 0.90, F: 0.05}),\n",
    "    ('MaryRuftAn', 'Alarm', {T: 0.70, F: 0.01}) ])\n",
    "\n",
    "grippe_netz = BayesNet([\n",
    "    ('Geimpft', [], 0.60),\n",
    "    ('Grippe', ['Geimpft'], {T: 0.002, F: 0.02}),\n",
    "    ('Fieber', ['Grippe'], {T: ProbDist(no=25, mild=25, high=50),\n",
    "                            F: ProbDist(no=97, mild=2, high=1)}),\n",
    "    ('Körpertemperatur', ['Fieber'], {'no': ProbDist(unter38=95, über38=5),\n",
    "                                       'mild': ProbDist(unter38=50, über38=50),\n",
    "                                       'high': ProbDist(unter38=5, über38=95)}),\n",
    "    ('Kopfweh', ['Grippe'], {T: 0.5, F: 0.03}) ])"
   ]
  },
  {
   "cell_type": "markdown",
   "id": "0e2bdcde",
   "metadata": {
    "ExecuteTime": {
     "end_time": "2022-02-17T09:19:19.986773Z",
     "start_time": "2022-02-17T09:19:19.971726Z"
    }
   },
   "source": [
    "# 4.3\tNetzte mithilfe von Excel-Datei definieren"
   ]
  },
  {
   "cell_type": "code",
   "execution_count": null,
   "id": "ae092873",
   "metadata": {
    "ExecuteTime": {
     "end_time": "2022-02-28T16:29:14.229277Z",
     "start_time": "2022-02-28T16:29:14.211277Z"
    }
   },
   "outputs": [],
   "source": [
    "einbruch_netz = get_net_from_xls(\"data/burglary.xls\")"
   ]
  },
  {
   "cell_type": "code",
   "execution_count": null,
   "id": "33619440",
   "metadata": {
    "ExecuteTime": {
     "end_time": "2022-02-28T16:29:14.608326Z",
     "start_time": "2022-02-28T16:29:14.560293Z"
    }
   },
   "outputs": [],
   "source": [
    "cov_net = get_net_from_xls(\"data/COVID19-Netz.xls\")"
   ]
  },
  {
   "cell_type": "markdown",
   "id": "43afa7f7",
   "metadata": {},
   "source": [
    "# 4.4\tNetze inspizieren"
   ]
  },
  {
   "cell_type": "code",
   "execution_count": null,
   "id": "b5ec9700",
   "metadata": {
    "ExecuteTime": {
     "end_time": "2022-02-28T16:29:15.445314Z",
     "start_time": "2022-02-28T16:29:15.435279Z"
    }
   },
   "outputs": [],
   "source": [
    "einbruch_netz.variables"
   ]
  },
  {
   "cell_type": "code",
   "execution_count": null,
   "id": "2c242160",
   "metadata": {
    "ExecuteTime": {
     "end_time": "2022-02-28T16:29:15.802280Z",
     "start_time": "2022-02-28T16:29:15.779279Z"
    },
    "pycharm": {
     "name": "#%%\n"
    }
   },
   "outputs": [],
   "source": [
    "cov_net.variables"
   ]
  },
  {
   "cell_type": "code",
   "execution_count": null,
   "id": "1bc45668",
   "metadata": {
    "ExecuteTime": {
     "end_time": "2022-02-28T16:29:16.244280Z",
     "start_time": "2022-02-28T16:29:16.225316Z"
    }
   },
   "outputs": [],
   "source": [
    "einbruch_netz.get_node('Alarm')"
   ]
  },
  {
   "cell_type": "code",
   "execution_count": null,
   "id": "a07792e3",
   "metadata": {
    "ExecuteTime": {
     "end_time": "2022-02-28T16:29:16.604319Z",
     "start_time": "2022-02-28T16:29:16.589279Z"
    }
   },
   "outputs": [],
   "source": [
    "grippe_netz.variable_values('Fieber')\n",
    "# or\n",
    "grippe_netz.get_node('Fieber').variable_values"
   ]
  },
  {
   "cell_type": "code",
   "execution_count": null,
   "id": "4866a7ff",
   "metadata": {
    "ExecuteTime": {
     "end_time": "2022-02-28T16:29:16.889319Z",
     "start_time": "2022-02-28T16:29:16.867278Z"
    }
   },
   "outputs": [],
   "source": [
    "einbruch_netz.get_node('Alarm').as_table()"
   ]
  },
  {
   "cell_type": "markdown",
   "id": "d22adf37",
   "metadata": {},
   "source": [
    "# 4.5\tInferenz"
   ]
  },
  {
   "cell_type": "code",
   "execution_count": null,
   "id": "e420b512",
   "metadata": {
    "ExecuteTime": {
     "end_time": "2022-02-28T16:29:17.316281Z",
     "start_time": "2022-02-28T16:29:17.299301Z"
    }
   },
   "outputs": [],
   "source": [
    "enumeration_ask('Einbruch', {'MaryRuftAn':F, 'JohnRuftAn':T}, einbruch_netz)"
   ]
  },
  {
   "cell_type": "code",
   "execution_count": null,
   "id": "a8705729",
   "metadata": {
    "ExecuteTime": {
     "end_time": "2022-02-28T16:29:17.521314Z",
     "start_time": "2022-02-28T16:29:17.508278Z"
    }
   },
   "outputs": [],
   "source": [
    "elimination_ask('Einbruch', {'MaryRuftAn':F, 'JohnRuftAn':T}, einbruch_netz)"
   ]
  },
  {
   "cell_type": "code",
   "execution_count": null,
   "id": "c8ce0877",
   "metadata": {
    "ExecuteTime": {
     "end_time": "2022-02-28T16:29:17.727315Z",
     "start_time": "2022-02-28T16:29:17.706290Z"
    },
    "pycharm": {
     "name": "#%%\n"
    }
   },
   "outputs": [],
   "source": [
    "elimination_ask('Einbruch', {'MaryRuftAn':F, 'JohnRuftAn':T}, einbruch_netz)[F]"
   ]
  },
  {
   "cell_type": "code",
   "execution_count": null,
   "id": "58f2963d",
   "metadata": {
    "ExecuteTime": {
     "end_time": "2022-02-28T16:29:17.917280Z",
     "start_time": "2022-02-28T16:29:17.899321Z"
    },
    "pycharm": {
     "name": "#%%\n"
    }
   },
   "outputs": [],
   "source": [
    "elimination_ask('Fieber', {'Grippe':T}, grippe_netz)[\"high\"]"
   ]
  },
  {
   "cell_type": "code",
   "execution_count": null,
   "id": "269be906",
   "metadata": {
    "ExecuteTime": {
     "end_time": "2022-02-28T16:29:18.232356Z",
     "start_time": "2022-02-28T16:29:18.100317Z"
    }
   },
   "outputs": [],
   "source": [
    "elimination_ask('Eventual Covid status', {\"age\":\"65-80\",\n",
    "                          \"Underlying medical condition\":\"High\",\n",
    "                          \"Intractions with other people\":\"Multiple external\",\n",
    "                          \"Contact with symptomatic person\":T,\n",
    "                          \"Frontline healthcare worker\":F,\n",
    "                          \"Time since infection ifinfected\":\"<= 5 days\",\n",
    "                          \"Test type\": \"PCR Nasal\",\n",
    "                          \"Tested result\": \"Positive\",\n",
    "                          \"Previous symptoms\":\"No\",\n",
    "                          \"Previous validated test\":\"No\"}, cov_net)"
   ]
  },
  {
   "cell_type": "code",
   "execution_count": null,
   "id": "8d241205",
   "metadata": {
    "ExecuteTime": {
     "end_time": "2022-02-28T16:29:18.643326Z",
     "start_time": "2022-02-28T16:29:18.510279Z"
    }
   },
   "outputs": [],
   "source": [
    "elimination_ask('Eventual Covid status', {\"age\":\"50-65\",\n",
    "                          \"Underlying medical condition\":\"Low\",\n",
    "                          \"Intractions with other people\":\"Multiple external\",\n",
    "                          \"Contact with symptomatic person\":T,\n",
    "                          \"Frontline healthcare worker\":F,\n",
    "                          \"Time since infection ifinfected\":\"<= 5 days\",\n",
    "                          \"Test type\": \"CT-scan\",\n",
    "                          \"Tested result\": \"Positive\",\n",
    "                          \"Previous symptoms\":\"No\",\n",
    "                          \"Previous validated test\":\"No\"}, cov_net)"
   ]
  },
  {
   "cell_type": "markdown",
   "id": "e1b701ed",
   "metadata": {
    "ExecuteTime": {
     "end_time": "2022-02-15T11:42:02.353156Z",
     "start_time": "2022-02-15T11:42:02.236121Z"
    },
    "pycharm": {
     "name": "#%% md\n"
    }
   },
   "source": [
    "# 4.6\tArbeiten mit Faktoren"
   ]
  },
  {
   "cell_type": "code",
   "execution_count": null,
   "id": "344124fc",
   "metadata": {
    "ExecuteTime": {
     "end_time": "2022-02-28T16:29:19.245278Z",
     "start_time": "2022-02-28T16:29:19.234314Z"
    },
    "pycharm": {
     "name": "#%%\n"
    }
   },
   "outputs": [],
   "source": [
    "factor = Factor.make_factor('Alarm', {'JohnRuftAn':T,'MaryRuftAn':F}, einbruch_netz)"
   ]
  },
  {
   "cell_type": "code",
   "execution_count": null,
   "id": "4df1616c",
   "metadata": {
    "ExecuteTime": {
     "end_time": "2022-02-28T16:29:19.609313Z",
     "start_time": "2022-02-28T16:29:19.584441Z"
    },
    "pycharm": {
     "name": "#%%\n"
    }
   },
   "outputs": [],
   "source": [
    "factor.as_table()"
   ]
  },
  {
   "cell_type": "code",
   "execution_count": null,
   "id": "667758d6",
   "metadata": {
    "ExecuteTime": {
     "end_time": "2022-02-28T16:29:19.926277Z",
     "start_time": "2022-02-28T16:29:19.909315Z"
    },
    "pycharm": {
     "name": "#%%\n"
    }
   },
   "outputs": [],
   "source": [
    "factor2 = Factor.make_factor('JohnRuftAn', {'JohnRuftAn':T,'MaryRuftAn':F}, einbruch_netz)\n",
    "factor2.as_table()"
   ]
  },
  {
   "cell_type": "code",
   "execution_count": null,
   "id": "cb583e1d",
   "metadata": {
    "ExecuteTime": {
     "end_time": "2022-02-28T16:29:20.276280Z",
     "start_time": "2022-02-28T16:29:20.245281Z"
    },
    "pycharm": {
     "name": "#%%\n"
    }
   },
   "outputs": [],
   "source": [
    "result = factor.pointwise_product(factor2, einbruch_netz)\n",
    "result.as_table()"
   ]
  },
  {
   "cell_type": "code",
   "execution_count": null,
   "id": "a106713a",
   "metadata": {
    "ExecuteTime": {
     "end_time": "2022-02-28T16:29:20.604278Z",
     "start_time": "2022-02-28T16:29:20.578330Z"
    },
    "pycharm": {
     "name": "#%%\n"
    }
   },
   "outputs": [],
   "source": [
    "result = result.sum_out('Alarm', einbruch_netz)\n",
    "result.as_table()"
   ]
  },
  {
   "cell_type": "markdown",
   "id": "f76d5fbb",
   "metadata": {
    "pycharm": {
     "name": "#%% md\n"
    }
   },
   "source": [
    "# 4.7\tBetreiben der Webapplikation\n",
    "Oder run_server.py ausführen"
   ]
  },
  {
   "cell_type": "code",
   "execution_count": null,
   "id": "949a7c15",
   "metadata": {
    "ExecuteTime": {
     "end_time": "2022-02-28T16:29:21.842280Z",
     "start_time": "2022-02-28T16:29:21.229278Z"
    },
    "pycharm": {
     "name": "#%%\n"
    }
   },
   "outputs": [],
   "source": [
    "from dash_app.app import app"
   ]
  },
  {
   "cell_type": "code",
   "execution_count": null,
   "id": "5849aece",
   "metadata": {
    "ExecuteTime": {
     "end_time": "2022-02-28T16:29:31.533312Z",
     "start_time": "2022-02-28T16:29:21.859283Z"
    },
    "pycharm": {
     "name": "#%%\n"
    }
   },
   "outputs": [],
   "source": [
    "app.run_server()"
   ]
  },
  {
   "cell_type": "markdown",
   "id": "1e5e5fc1",
   "metadata": {
    "pycharm": {
     "name": "#%% md\n"
    }
   },
   "source": [
    "# 4.8\tMögliche Fehler"
   ]
  },
  {
   "cell_type": "code",
   "execution_count": null,
   "id": "9a9a629b",
   "metadata": {
    "ExecuteTime": {
     "end_time": "2022-02-28T16:29:35.054286Z",
     "start_time": "2022-02-28T16:29:34.312300Z"
    },
    "pycharm": {
     "name": "#%%\n"
    }
   },
   "outputs": [],
   "source": [
    "einbruch_netz = BayesNet([\n",
    "    ('Einbruch', '', 0.001),\n",
    "    ('Erdbeben', '', 0.002),\n",
    "    ('Alarm', 'Einbruch', # Elternteil vergessen\n",
    "     {(T, T): 0.95, (T, F): 0.94, (F, T): 0.29, (F, F): 0.001}),\n",
    "    ('JohnRuftAn', 'Alarm', {T: 0.90, F: 0.05}),\n",
    "    ('MaryRuftAn', 'Alarm', {T: 0.70, F: 0.01}) ])"
   ]
  },
  {
   "cell_type": "code",
   "execution_count": null,
   "id": "4eb0308d",
   "metadata": {
    "ExecuteTime": {
     "end_time": "2022-02-28T16:29:35.057315Z",
     "start_time": "2022-02-28T16:29:35.057315Z"
    },
    "pycharm": {
     "name": "#%%\n"
    }
   },
   "outputs": [],
   "source": [
    "grippe_netz = BayesNet([\n",
    "    ('Geimpft', [], 0.60),\n",
    "    ('Grippe', ['Geimpft'], {T: 0.002, F: 0.02}),\n",
    "    ('Fieber', ['Grippe'], {T: ProbDist(kein=25, mild=25, hoch=50), # andere Werte der Verteilung\n",
    "                            F: ProbDist(no=97, mild=2, high=1)}), # andere Werte der Verteilung\n",
    "    ('Körpertemperatur', ['Fieber'], {'no': ProbDist(unter38=95, über38=5),\n",
    "                                       'mild': ProbDist(unter38=50, über38=50),\n",
    "                                       'high': ProbDist(unter38=5, über38=95)}),\n",
    "    ('Kopfweh', ['Grippe'], {T: 0.5, F: 0.03}) ])"
   ]
  },
  {
   "cell_type": "code",
   "execution_count": null,
   "id": "4747ad55",
   "metadata": {
    "ExecuteTime": {
     "end_time": "2022-02-28T16:29:35.563318Z",
     "start_time": "2022-02-28T16:29:35.494279Z"
    },
    "pycharm": {
     "name": "#%%\n"
    }
   },
   "outputs": [],
   "source": [
    "grippe_netz = BayesNet([\n",
    "    ('Geimpft', [], 0.60),\n",
    "    ('Grippe', ['Geimpft'], {T: 0.002, F: 0.02}),\n",
    "    ('Fieber', ['Grippe'], {T: ProbDist(no=25, mild=25, high=50),\n",
    "                            F: ProbDist(no=97, mild=2, high=1)}),\n",
    "    ('Körpertemperatur', ['Fieber'], {'no': ProbDist(unter38=95, über38=5),\n",
    "                                       'mild': ProbDist(unter38=50, über38=50),\n",
    "                                       'hoch': ProbDist(unter38=5, über38=95)}), # diesen Elternwert gibt es nicht\n",
    "    ('Kopfweh', ['Grippe'], {T: 0.5, F: 0.03}) ])"
   ]
  },
  {
   "cell_type": "code",
   "execution_count": null,
   "id": "1e931a73",
   "metadata": {
    "ExecuteTime": {
     "end_time": "2022-02-28T16:29:36.831278Z",
     "start_time": "2022-02-28T16:29:36.793289Z"
    },
    "pycharm": {
     "name": "#%%\n"
    }
   },
   "outputs": [],
   "source": [
    "einbruch_netz = BayesNet([\n",
    "    ('Einbruch', '', 0.001),\n",
    "    ('Erdbeben', '', 0.002),\n",
    "    ('Alarm', 'Einbruch Erdbeben',\n",
    "     {(T, T): 0.95, (T, F): 0.94, (F, T): 0.29}), # (F, F) vergessen\n",
    "    ('JohnRuftAn', 'Alarm', {T: 0.90, F: 0.05}),\n",
    "    ('MaryRuftAn', 'Alarm', {T: 0.70, F: 0.01}) ])"
   ]
  }
 ],
 "metadata": {
  "kernelspec": {
   "display_name": "Python 3 (ipykernel)",
   "language": "python",
   "name": "python3"
  },
  "language_info": {
   "codemirror_mode": {
    "name": "ipython",
    "version": 3
   },
   "file_extension": ".py",
   "mimetype": "text/x-python",
   "name": "python",
   "nbconvert_exporter": "python",
   "pygments_lexer": "ipython3",
   "version": "3.8.12"
  },
  "toc": {
   "base_numbering": 1,
   "nav_menu": {},
   "number_sections": true,
   "sideBar": true,
   "skip_h1_title": false,
   "title_cell": "Table of Contents",
   "title_sidebar": "Contents",
   "toc_cell": false,
   "toc_position": {},
   "toc_section_display": true,
   "toc_window_display": false
  },
  "varInspector": {
   "cols": {
    "lenName": 16,
    "lenType": 16,
    "lenVar": 40
   },
   "kernels_config": {
    "python": {
     "delete_cmd_postfix": "",
     "delete_cmd_prefix": "del ",
     "library": "var_list.py",
     "varRefreshCmd": "print(var_dic_list())"
    },
    "r": {
     "delete_cmd_postfix": ") ",
     "delete_cmd_prefix": "rm(",
     "library": "var_list.r",
     "varRefreshCmd": "cat(var_dic_list()) "
    }
   },
   "types_to_exclude": [
    "module",
    "function",
    "builtin_function_or_method",
    "instance",
    "_Feature"
   ],
   "window_display": false
  }
 },
 "nbformat": 4,
 "nbformat_minor": 5
}
