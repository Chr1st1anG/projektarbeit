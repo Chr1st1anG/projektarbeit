{
 "cells": [
  {
   "cell_type": "code",
   "execution_count": null,
   "metadata": {
    "ExecuteTime": {
     "end_time": "2022-02-28T16:30:08.224946Z",
     "start_time": "2022-02-28T16:30:07.094908Z"
    }
   },
   "outputs": [],
   "source": [
    "from probinf.distributions import *\n",
    "from probinf.bayes_net import *\n",
    "from probinf.inference import *\n",
    "from probinf.utils import *\n",
    "from probinf.xl_reader import *"
   ]
  },
  {
   "cell_type": "markdown",
   "metadata": {
    "pycharm": {
     "name": "#%% md\n"
    }
   },
   "source": [
    "# Import des Netzes"
   ]
  },
  {
   "cell_type": "code",
   "execution_count": null,
   "metadata": {
    "ExecuteTime": {
     "end_time": "2022-02-28T16:30:08.304944Z",
     "start_time": "2022-02-28T16:30:08.228909Z"
    },
    "pycharm": {
     "name": "#%%\n"
    }
   },
   "outputs": [],
   "source": [
    "cov_net = get_net_from_xls(\"data/COVID19-Netz.xls\")"
   ]
  },
  {
   "cell_type": "markdown",
   "metadata": {
    "pycharm": {
     "name": "#%% md\n"
    }
   },
   "source": [
    "# Inspektion des Netzes"
   ]
  },
  {
   "cell_type": "code",
   "execution_count": null,
   "metadata": {
    "ExecuteTime": {
     "end_time": "2022-02-28T16:30:08.335910Z",
     "start_time": "2022-02-28T16:30:08.311912Z"
    },
    "pycharm": {
     "name": "#%%\n"
    }
   },
   "outputs": [],
   "source": [
    "cov_net.variables"
   ]
  },
  {
   "cell_type": "code",
   "execution_count": null,
   "metadata": {
    "ExecuteTime": {
     "end_time": "2022-02-28T16:30:08.350912Z",
     "start_time": "2022-02-28T16:30:08.337911Z"
    },
    "pycharm": {
     "name": "#%%\n"
    }
   },
   "outputs": [],
   "source": [
    "node = cov_net.get_node(\"Eventual Covid status\")"
   ]
  },
  {
   "cell_type": "code",
   "execution_count": null,
   "metadata": {
    "ExecuteTime": {
     "end_time": "2022-02-28T16:30:08.412922Z",
     "start_time": "2022-02-28T16:30:08.368912Z"
    },
    "pycharm": {
     "name": "#%%\n"
    }
   },
   "outputs": [],
   "source": [
    "node.as_table()"
   ]
  },
  {
   "cell_type": "markdown",
   "metadata": {
    "pycharm": {
     "name": "#%% md\n"
    }
   },
   "source": [
    "# Inferenz"
   ]
  },
  {
   "cell_type": "markdown",
   "metadata": {},
   "source": [
    "## Beispiel 1"
   ]
  },
  {
   "cell_type": "code",
   "execution_count": null,
   "metadata": {
    "ExecuteTime": {
     "end_time": "2022-02-28T16:30:10.138945Z",
     "start_time": "2022-02-28T16:30:09.920945Z"
    },
    "pycharm": {
     "name": "#%%\n"
    }
   },
   "outputs": [],
   "source": [
    "elimination_ask(\"Eventual Covid status\",{\"age\":\">80\",\n",
    "                                        \"sex\":\"Female\"}, cov_net)"
   ]
  },
  {
   "cell_type": "code",
   "execution_count": null,
   "metadata": {
    "ExecuteTime": {
     "end_time": "2022-02-28T16:30:10.470943Z",
     "start_time": "2022-02-28T16:30:10.295920Z"
    }
   },
   "outputs": [],
   "source": [
    "elimination_ask(\"Eventual Covid status\",{\"age\":\">80\",\n",
    "                                        \"sex\":\"Female\",\n",
    "                                        \"Intractions with other people\":\"Multiple external\",\n",
    "                                        \"Contact with symptomatic person\":T}, cov_net)"
   ]
  },
  {
   "cell_type": "code",
   "execution_count": null,
   "metadata": {
    "ExecuteTime": {
     "end_time": "2022-02-28T16:30:10.880912Z",
     "start_time": "2022-02-28T16:30:10.715955Z"
    }
   },
   "outputs": [],
   "source": [
    "elimination_ask(\"Eventual Covid status\",{\"age\":\">80\",\n",
    "                                        \"sex\":\"Female\",\n",
    "                                        \"Intractions with other people\":\"Multiple external\",\n",
    "                                        \"Contact with symptomatic person\":T\n",
    "                                        }, cov_net)"
   ]
  },
  {
   "cell_type": "code",
   "execution_count": null,
   "metadata": {
    "ExecuteTime": {
     "end_time": "2022-02-28T16:30:11.309915Z",
     "start_time": "2022-02-28T16:30:11.123945Z"
    }
   },
   "outputs": [],
   "source": [
    "elimination_ask(\"Eventual Covid status\",{\"age\":\"<15\",\n",
    "                                        \"sex\":\"Female\",\n",
    "                                        \"Intractions with other people\":\"Multiple external\",\n",
    "                                        \"Contact with symptomatic person\":T\n",
    "                                        }, cov_net)"
   ]
  },
  {
   "cell_type": "markdown",
   "metadata": {},
   "source": [
    "## Beispiel 2"
   ]
  },
  {
   "cell_type": "code",
   "execution_count": null,
   "metadata": {
    "ExecuteTime": {
     "end_time": "2022-02-28T16:30:13.217929Z",
     "start_time": "2022-02-28T16:30:11.880943Z"
    }
   },
   "outputs": [],
   "source": [
    "elimination_ask(\"Eventual Covid status\",{\"Cough\":T,\n",
    "                                         \"Fatigue\":T}, cov_net)"
   ]
  },
  {
   "cell_type": "code",
   "execution_count": null,
   "metadata": {
    "ExecuteTime": {
     "end_time": "2022-02-28T16:30:15.099962Z",
     "start_time": "2022-02-28T16:30:13.238911Z"
    }
   },
   "outputs": [],
   "source": [
    "elimination_ask(\"Current Covid or similar status\",{\"Cough\":T,\n",
    "                                                   \"Fatigue\":T}, cov_net)"
   ]
  },
  {
   "cell_type": "code",
   "execution_count": null,
   "metadata": {
    "ExecuteTime": {
     "end_time": "2022-02-28T16:30:16.615986Z",
     "start_time": "2022-02-28T16:30:15.120910Z"
    }
   },
   "outputs": [],
   "source": [
    "elimination_ask(\"Eventual Covid status\",{\"Cough\":T,\n",
    "                                         \"Fatigue\":T,\n",
    "                                        \"Dyspnea\":T}, cov_net)"
   ]
  },
  {
   "cell_type": "code",
   "execution_count": null,
   "metadata": {
    "ExecuteTime": {
     "end_time": "2022-02-28T16:30:18.431947Z",
     "start_time": "2022-02-28T16:30:16.637909Z"
    }
   },
   "outputs": [],
   "source": [
    "elimination_ask(\"Current Covid or similar status\",{\"Cough\":T,\n",
    "                                                   \"Fatigue\":T,\n",
    "                                                   \"Dyspnea\":T}, cov_net)"
   ]
  },
  {
   "cell_type": "code",
   "execution_count": null,
   "metadata": {
    "ExecuteTime": {
     "end_time": "2022-02-28T16:30:19.776946Z",
     "start_time": "2022-02-28T16:30:18.451908Z"
    }
   },
   "outputs": [],
   "source": [
    "elimination_ask(\"Eventual Covid status\",{\"Cough\":T,\n",
    "                                         \"Fatigue\":T,\n",
    "                                         \"Dyspnea\":T,\n",
    "                                         \"Body Temp\": \">38\",\n",
    "                                         \"Loss of taste or smell\": T}, cov_net)"
   ]
  },
  {
   "cell_type": "markdown",
   "metadata": {
    "pycharm": {
     "name": "#%% md\n"
    }
   },
   "source": [
    "## Beispiel Propagation von Wissen durch das Netz"
   ]
  },
  {
   "cell_type": "code",
   "execution_count": null,
   "metadata": {
    "ExecuteTime": {
     "end_time": "2022-02-28T16:30:20.170909Z",
     "start_time": "2022-02-28T16:30:19.796914Z"
    },
    "pycharm": {
     "name": "#%%\n"
    }
   },
   "outputs": [],
   "source": [
    "elimination_ask(\"Contact with symptomatic person\",{}, cov_net)"
   ]
  },
  {
   "cell_type": "code",
   "execution_count": null,
   "metadata": {
    "ExecuteTime": {
     "end_time": "2022-02-28T16:30:20.582946Z",
     "start_time": "2022-02-28T16:30:20.191914Z"
    },
    "pycharm": {
     "name": "#%%\n"
    }
   },
   "outputs": [],
   "source": [
    "elimination_ask(\"Contact with symptomatic person\",{\"Cough\":T,\n",
    "                                                   \"Fatigue\":T,\n",
    "                                                   \"Dyspnea\":T,\n",
    "                                                   \"Body Temp\": \">38\",\n",
    "                                                   \"Loss of taste or smell\": T,\n",
    "                                                   \"Sputum Production\":T,\n",
    "                                                   \"Chills\":T,\n",
    "                                                   \"Myalgia\":T,\n",
    "                                                   \"O2 Saturation\":\"<90\"}, cov_net)"
   ]
  }
 ],
 "metadata": {
  "kernelspec": {
   "display_name": "Python 3 (ipykernel)",
   "language": "python",
   "name": "python3"
  },
  "language_info": {
   "codemirror_mode": {
    "name": "ipython",
    "version": 3
   },
   "file_extension": ".py",
   "mimetype": "text/x-python",
   "name": "python",
   "nbconvert_exporter": "python",
   "pygments_lexer": "ipython3",
   "version": "3.8.12"
  },
  "toc": {
   "base_numbering": 1,
   "nav_menu": {},
   "number_sections": true,
   "sideBar": true,
   "skip_h1_title": false,
   "title_cell": "Table of Contents",
   "title_sidebar": "Contents",
   "toc_cell": false,
   "toc_position": {},
   "toc_section_display": true,
   "toc_window_display": false
  },
  "varInspector": {
   "cols": {
    "lenName": 16,
    "lenType": 16,
    "lenVar": 40
   },
   "kernels_config": {
    "python": {
     "delete_cmd_postfix": "",
     "delete_cmd_prefix": "del ",
     "library": "var_list.py",
     "varRefreshCmd": "print(var_dic_list())"
    },
    "r": {
     "delete_cmd_postfix": ") ",
     "delete_cmd_prefix": "rm(",
     "library": "var_list.r",
     "varRefreshCmd": "cat(var_dic_list()) "
    }
   },
   "types_to_exclude": [
    "module",
    "function",
    "builtin_function_or_method",
    "instance",
    "_Feature"
   ],
   "window_display": false
  }
 },
 "nbformat": 4,
 "nbformat_minor": 1
}
