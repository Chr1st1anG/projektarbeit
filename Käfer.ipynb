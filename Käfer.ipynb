{
 "cells": [
  {
   "cell_type": "code",
   "execution_count": null,
   "metadata": {
    "ExecuteTime": {
     "end_time": "2022-02-28T16:30:42.474914Z",
     "start_time": "2022-02-28T16:30:41.247874Z"
    }
   },
   "outputs": [],
   "source": [
    "from probinf.distributions import *\n",
    "from probinf.bayes_net import *\n",
    "from probinf.inference import *\n",
    "from probinf.utils import *\n",
    "from probinf.xl_reader import *"
   ]
  },
  {
   "cell_type": "markdown",
   "metadata": {
    "pycharm": {
     "name": "#%% md\n"
    }
   },
   "source": [
    "# Import der Netze"
   ]
  },
  {
   "cell_type": "code",
   "execution_count": null,
   "metadata": {
    "ExecuteTime": {
     "end_time": "2022-02-28T16:30:42.538875Z",
     "start_time": "2022-02-28T16:30:42.479879Z"
    },
    "pycharm": {
     "name": "#%%\n"
    }
   },
   "outputs": [],
   "source": [
    "arhoplaus_net = get_net_from_xls(\"data/Käfer/Arhopalus.xls\")"
   ]
  },
  {
   "cell_type": "code",
   "execution_count": null,
   "metadata": {
    "ExecuteTime": {
     "end_time": "2022-02-28T16:30:42.586878Z",
     "start_time": "2022-02-28T16:30:42.541951Z"
    },
    "pycharm": {
     "name": "#%%\n"
    }
   },
   "outputs": [],
   "source": [
    "hylastes_net = get_net_from_xls(\"data/Käfer/Hylastes.xls\")"
   ]
  },
  {
   "cell_type": "code",
   "execution_count": null,
   "metadata": {
    "ExecuteTime": {
     "end_time": "2022-02-28T16:30:42.633910Z",
     "start_time": "2022-02-28T16:30:42.588876Z"
    },
    "pycharm": {
     "name": "#%%\n"
    }
   },
   "outputs": [],
   "source": [
    "hylurgus_net = get_net_from_xls(\"data/Käfer/Hylurgus.xls\")"
   ]
  },
  {
   "cell_type": "markdown",
   "metadata": {
    "pycharm": {
     "name": "#%% md\n"
    }
   },
   "source": [
    "# Inspektion des Netzes"
   ]
  },
  {
   "cell_type": "code",
   "execution_count": null,
   "metadata": {
    "ExecuteTime": {
     "end_time": "2022-02-28T16:30:42.649877Z",
     "start_time": "2022-02-28T16:30:42.636881Z"
    },
    "pycharm": {
     "name": "#%%\n"
    }
   },
   "outputs": [],
   "source": [
    "arhoplaus_net.variables"
   ]
  },
  {
   "cell_type": "code",
   "execution_count": null,
   "metadata": {
    "ExecuteTime": {
     "end_time": "2022-02-28T16:30:42.665915Z",
     "start_time": "2022-02-28T16:30:42.651916Z"
    },
    "pycharm": {
     "name": "#%%\n"
    }
   },
   "outputs": [],
   "source": [
    "hylastes_net.variables"
   ]
  },
  {
   "cell_type": "code",
   "execution_count": null,
   "metadata": {
    "ExecuteTime": {
     "end_time": "2022-02-28T16:30:42.681884Z",
     "start_time": "2022-02-28T16:30:42.667915Z"
    },
    "pycharm": {
     "name": "#%%\n"
    }
   },
   "outputs": [],
   "source": [
    "hylurgus_net.variables"
   ]
  },
  {
   "cell_type": "code",
   "execution_count": null,
   "metadata": {
    "ExecuteTime": {
     "end_time": "2022-02-28T16:30:42.728876Z",
     "start_time": "2022-02-28T16:30:42.684875Z"
    },
    "pycharm": {
     "name": "#%%\n"
    }
   },
   "outputs": [],
   "source": [
    "hylurgus_net.get_node(\"Rainfall (mm hr)\").as_table()"
   ]
  },
  {
   "cell_type": "markdown",
   "metadata": {
    "pycharm": {
     "name": "#%% md\n"
    }
   },
   "source": [
    "# Inferenz"
   ]
  },
  {
   "cell_type": "code",
   "execution_count": null,
   "metadata": {
    "ExecuteTime": {
     "end_time": "2022-02-28T16:30:42.744875Z",
     "start_time": "2022-02-28T16:30:42.730913Z"
    },
    "pycharm": {
     "name": "#%%\n"
    }
   },
   "outputs": [],
   "source": [
    "elimination_ask(\"Flight\",{\"Time since sunset (min)\":\"-20 to 6\",\n",
    "                          \"Photosyntetically radiation\":\"< 0.23\",\n",
    "                          \"Maximum temperature\": \">= 12.6\",\n",
    "                          \"Wind speed\":\"< 4.2\",\n",
    "                          \"Temperature range\":\">= 1.1\",\n",
    "                          \"Day of year\":\"< 14\"}, arhoplaus_net)"
   ]
  },
  {
   "cell_type": "code",
   "execution_count": null,
   "metadata": {
    "ExecuteTime": {
     "end_time": "2022-02-28T16:30:42.776878Z",
     "start_time": "2022-02-28T16:30:42.751880Z"
    },
    "pycharm": {
     "name": "#%%\n"
    }
   },
   "outputs": [],
   "source": [
    "elimination_ask(\"Flight\",{\"Time since sunset (min)\":\">= 373\",\n",
    "                          \"Photosyntetically radiation\":\"< 0.23\",\n",
    "                          \"Maximum temperature\": \">= 12.6\",\n",
    "                          \"Wind speed\":\"< 4.2\",\n",
    "                          \"Temperature range\":\">= 1.1\",\n",
    "                          \"Day of year\":\"< 14\"}, arhoplaus_net)"
   ]
  },
  {
   "cell_type": "code",
   "execution_count": null,
   "metadata": {
    "ExecuteTime": {
     "end_time": "2022-02-28T16:30:42.792889Z",
     "start_time": "2022-02-28T16:30:42.779916Z"
    },
    "pycharm": {
     "name": "#%%\n"
    }
   },
   "outputs": [],
   "source": [
    "elimination_ask(\"Flight\",{\"Time since sunset (min)\":\"-20 to 6\",\n",
    "                          \"Photosyntetically radiation\":\">= 0.23\",\n",
    "                          \"Maximum temperature\": \">= 12.6\",\n",
    "                          \"Wind speed\":\"< 4.2\",\n",
    "                          \"Temperature range\":\">= 1.1\",\n",
    "                          \"Day of year\":\"< 14\"}, arhoplaus_net)"
   ]
  }
 ],
 "metadata": {
  "kernelspec": {
   "display_name": "Python 3 (ipykernel)",
   "language": "python",
   "name": "python3"
  },
  "language_info": {
   "codemirror_mode": {
    "name": "ipython",
    "version": 3
   },
   "file_extension": ".py",
   "mimetype": "text/x-python",
   "name": "python",
   "nbconvert_exporter": "python",
   "pygments_lexer": "ipython3",
   "version": "3.8.12"
  },
  "toc": {
   "base_numbering": 1,
   "nav_menu": {},
   "number_sections": true,
   "sideBar": true,
   "skip_h1_title": false,
   "title_cell": "Table of Contents",
   "title_sidebar": "Contents",
   "toc_cell": false,
   "toc_position": {},
   "toc_section_display": true,
   "toc_window_display": false
  },
  "varInspector": {
   "cols": {
    "lenName": 16,
    "lenType": 16,
    "lenVar": 40
   },
   "kernels_config": {
    "python": {
     "delete_cmd_postfix": "",
     "delete_cmd_prefix": "del ",
     "library": "var_list.py",
     "varRefreshCmd": "print(var_dic_list())"
    },
    "r": {
     "delete_cmd_postfix": ") ",
     "delete_cmd_prefix": "rm(",
     "library": "var_list.r",
     "varRefreshCmd": "cat(var_dic_list()) "
    }
   },
   "types_to_exclude": [
    "module",
    "function",
    "builtin_function_or_method",
    "instance",
    "_Feature"
   ],
   "window_display": false
  }
 },
 "nbformat": 4,
 "nbformat_minor": 1
}
